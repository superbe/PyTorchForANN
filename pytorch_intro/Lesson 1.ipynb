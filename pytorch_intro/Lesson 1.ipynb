{
 "cells": [
  {
   "cell_type": "markdown",
   "metadata": {},
   "source": [
    "# Курс «Фреймворк PyTorch для разработки искусственных нейронных сетей»"
   ]
  },
  {
   "cell_type": "markdown",
   "metadata": {},
   "source": [
    "## Урок 1. Введение в PyTorch"
   ]
  },
  {
   "cell_type": "markdown",
   "metadata": {},
   "source": [
    "### Домашняя работа к уроку 1"
   ]
  },
  {
   "cell_type": "code",
   "execution_count": 1,
   "metadata": {},
   "outputs": [],
   "source": [
    "# !pip install torch===1.6.0 torchvision===0.7.0 -f https://download.pytorch.org/whl/torch_stable.html"
   ]
  },
  {
   "cell_type": "code",
   "execution_count": 2,
   "metadata": {},
   "outputs": [],
   "source": [
    "import torch\n",
    "import torchvision\n",
    "import torchvision.transforms as transforms\n",
    "import numpy as np\n",
    "import matplotlib.pyplot as plt\n",
    "import torch.nn.functional as F\n",
    "from torch.autograd import Variable\n",
    "from torch import nn \n",
    "from torch import optim"
   ]
  },
  {
   "cell_type": "code",
   "execution_count": null,
   "metadata": {},
   "outputs": [],
   "source": []
  },
  {
   "cell_type": "markdown",
   "metadata": {},
   "source": [
    "#### Задание 1"
   ]
  },
  {
   "cell_type": "markdown",
   "metadata": {},
   "source": [
    "Добиться вразумительного результата от модели, собранной на занятии (3 угаданные картинки из 4 предложенных на семинаре). Варианты изменений:  \n",
    "    a.\tизменение слоёв и их количества;  \n",
    "    b.\tизменение метода оптимизации;  \n",
    "    c.\tизменение процесса обучения;  \n",
    "    d.\tдля продвинутых: преобразование данных."
   ]
  },
  {
   "cell_type": "markdown",
   "metadata": {},
   "source": [
    "Задали устройство"
   ]
  },
  {
   "cell_type": "code",
   "execution_count": 3,
   "metadata": {},
   "outputs": [
    {
     "name": "stdout",
     "output_type": "stream",
     "text": [
      "cuda:0\n"
     ]
    }
   ],
   "source": [
    "device = torch.device(\"cuda:0\" if torch.cuda.is_available() else \"cpu\")\n",
    "print(device)"
   ]
  },
  {
   "cell_type": "markdown",
   "metadata": {},
   "source": [
    "Задали трнсформер"
   ]
  },
  {
   "cell_type": "code",
   "execution_count": 4,
   "metadata": {},
   "outputs": [],
   "source": [
    "transform = transforms.Compose([transforms.ToTensor(), transforms.Normalize((0.5, 0.5, 0.5), (0.5, 0.5, 0.5))])"
   ]
  },
  {
   "cell_type": "markdown",
   "metadata": {},
   "source": [
    "Загрузили тренировочный набор данных"
   ]
  },
  {
   "cell_type": "code",
   "execution_count": 5,
   "metadata": {},
   "outputs": [
    {
     "name": "stdout",
     "output_type": "stream",
     "text": [
      "Files already downloaded and verified\n"
     ]
    }
   ],
   "source": [
    "trainset = torchvision.datasets.CIFAR10(root='./data', train=True, download=True, transform=transform)\n",
    "trainloader = torch.utils.data.DataLoader(trainset, batch_size=4, shuffle=True, num_workers=2)"
   ]
  },
  {
   "cell_type": "markdown",
   "metadata": {},
   "source": [
    "Загрузили тестовый набор данных"
   ]
  },
  {
   "cell_type": "code",
   "execution_count": 6,
   "metadata": {},
   "outputs": [
    {
     "name": "stdout",
     "output_type": "stream",
     "text": [
      "Files already downloaded and verified\n"
     ]
    }
   ],
   "source": [
    "testset = torchvision.datasets.CIFAR10(root='./data', train=False, download=True, transform=transform)\n",
    "testloader = torch.utils.data.DataLoader(testset, batch_size=4, shuffle=False, num_workers=2)"
   ]
  },
  {
   "cell_type": "markdown",
   "metadata": {},
   "source": [
    "Задали названия классов"
   ]
  },
  {
   "cell_type": "code",
   "execution_count": 7,
   "metadata": {},
   "outputs": [],
   "source": [
    "classes = ('plane', 'car', 'bird', 'cat', 'deer', 'dog', 'frog', 'horse', 'ship', 'truck')"
   ]
  },
  {
   "cell_type": "markdown",
   "metadata": {},
   "source": [
    "Задаем нейронную сеть"
   ]
  },
  {
   "cell_type": "code",
   "execution_count": 8,
   "metadata": {},
   "outputs": [],
   "source": [
    "class Net(nn.Module):\n",
    "    def __init__(self):\n",
    "        super(Net, self).__init__()\n",
    "        self.conv1 = nn.Conv2d(3, 6, 5)\n",
    "        self.pool = nn.MaxPool2d(2, 2)\n",
    "        self.conv2 = nn.Conv2d(6, 16, 5)\n",
    "        self.fc1 = nn.Linear(16 * 5 * 5, 120)\n",
    "        self.fc2 = nn.Linear(120, 84)\n",
    "        self.fc3 = nn.Linear(84, 10)\n",
    "\n",
    "    def forward(self, x):\n",
    "        x = self.pool(F.relu(self.conv1(x)))\n",
    "        x = self.pool(F.relu(self.conv2(x)))\n",
    "        x = x.view(-1, 16 * 5 * 5)\n",
    "        x = F.relu(self.fc1(x))\n",
    "        x = F.relu(self.fc2(x))\n",
    "        x = self.fc3(x)\n",
    "        return x"
   ]
  },
  {
   "cell_type": "code",
   "execution_count": 9,
   "metadata": {},
   "outputs": [],
   "source": [
    "net = Net().to(device)"
   ]
  },
  {
   "cell_type": "markdown",
   "metadata": {},
   "source": [
    "Задаем функцию потерь и оптимизатор"
   ]
  },
  {
   "cell_type": "code",
   "execution_count": 10,
   "metadata": {},
   "outputs": [],
   "source": [
    "criterion = nn.CrossEntropyLoss()\n",
    "optimizer = optim.SGD(net.parameters(), lr=0.001, momentum=0.9)"
   ]
  },
  {
   "cell_type": "markdown",
   "metadata": {},
   "source": [
    "Обучаем сеть"
   ]
  },
  {
   "cell_type": "code",
   "execution_count": 11,
   "metadata": {
    "scrolled": true
   },
   "outputs": [
    {
     "name": "stdout",
     "output_type": "stream",
     "text": [
      "[1,  2000] loss: 2.241\n",
      "[1,  4000] loss: 1.900\n",
      "[1,  6000] loss: 1.685\n",
      "[1,  8000] loss: 1.585\n",
      "[1, 10000] loss: 1.536\n",
      "[1, 12000] loss: 1.453\n",
      "[2,  2000] loss: 1.404\n",
      "[2,  4000] loss: 1.378\n",
      "[2,  6000] loss: 1.361\n",
      "[2,  8000] loss: 1.310\n",
      "[2, 10000] loss: 1.307\n",
      "[2, 12000] loss: 1.295\n",
      "[3,  2000] loss: 1.228\n",
      "[3,  4000] loss: 1.210\n",
      "[3,  6000] loss: 1.225\n",
      "[3,  8000] loss: 1.205\n",
      "[3, 10000] loss: 1.193\n",
      "[3, 12000] loss: 1.195\n",
      "[4,  2000] loss: 1.118\n",
      "[4,  4000] loss: 1.118\n",
      "[4,  6000] loss: 1.117\n",
      "[4,  8000] loss: 1.109\n",
      "[4, 10000] loss: 1.126\n",
      "[4, 12000] loss: 1.105\n",
      "[5,  2000] loss: 1.037\n",
      "[5,  4000] loss: 1.033\n",
      "[5,  6000] loss: 1.057\n",
      "[5,  8000] loss: 1.042\n",
      "[5, 10000] loss: 1.054\n",
      "[5, 12000] loss: 1.089\n",
      "[6,  2000] loss: 0.977\n",
      "[6,  4000] loss: 0.977\n",
      "[6,  6000] loss: 0.997\n",
      "[6,  8000] loss: 1.011\n",
      "[6, 10000] loss: 0.994\n",
      "[6, 12000] loss: 1.005\n",
      "[7,  2000] loss: 0.907\n",
      "[7,  4000] loss: 0.946\n",
      "[7,  6000] loss: 0.951\n",
      "[7,  8000] loss: 0.950\n",
      "[7, 10000] loss: 0.969\n",
      "[7, 12000] loss: 0.979\n",
      "[8,  2000] loss: 0.863\n",
      "[8,  4000] loss: 0.916\n",
      "[8,  6000] loss: 0.903\n",
      "[8,  8000] loss: 0.906\n",
      "[8, 10000] loss: 0.941\n",
      "[8, 12000] loss: 0.959\n",
      "[9,  2000] loss: 0.819\n",
      "[9,  4000] loss: 0.866\n",
      "[9,  6000] loss: 0.860\n",
      "[9,  8000] loss: 0.901\n",
      "[9, 10000] loss: 0.899\n",
      "[9, 12000] loss: 0.933\n",
      "[10,  2000] loss: 0.802\n",
      "[10,  4000] loss: 0.824\n",
      "[10,  6000] loss: 0.847\n",
      "[10,  8000] loss: 0.879\n",
      "[10, 10000] loss: 0.880\n",
      "[10, 12000] loss: 0.870\n",
      "[11,  2000] loss: 0.756\n",
      "[11,  4000] loss: 0.813\n",
      "[11,  6000] loss: 0.823\n",
      "[11,  8000] loss: 0.824\n",
      "[11, 10000] loss: 0.855\n",
      "[11, 12000] loss: 0.870\n",
      "[12,  2000] loss: 0.755\n",
      "[12,  4000] loss: 0.774\n",
      "[12,  6000] loss: 0.793\n",
      "[12,  8000] loss: 0.823\n",
      "[12, 10000] loss: 0.821\n",
      "[12, 12000] loss: 0.820\n",
      "[13,  2000] loss: 0.722\n",
      "[13,  4000] loss: 0.764\n",
      "[13,  6000] loss: 0.766\n",
      "[13,  8000] loss: 0.801\n",
      "[13, 10000] loss: 0.810\n",
      "[13, 12000] loss: 0.801\n",
      "[14,  2000] loss: 0.695\n",
      "[14,  4000] loss: 0.714\n",
      "[14,  6000] loss: 0.745\n",
      "[14,  8000] loss: 0.759\n",
      "[14, 10000] loss: 0.800\n",
      "[14, 12000] loss: 0.817\n",
      "[15,  2000] loss: 0.672\n",
      "[15,  4000] loss: 0.727\n",
      "[15,  6000] loss: 0.727\n",
      "[15,  8000] loss: 0.770\n",
      "[15, 10000] loss: 0.779\n",
      "[15, 12000] loss: 0.765\n",
      "[16,  2000] loss: 0.658\n",
      "[16,  4000] loss: 0.717\n",
      "[16,  6000] loss: 0.710\n",
      "[16,  8000] loss: 0.744\n",
      "[16, 10000] loss: 0.773\n",
      "[16, 12000] loss: 0.749\n",
      "[17,  2000] loss: 0.647\n",
      "[17,  4000] loss: 0.701\n",
      "[17,  6000] loss: 0.713\n",
      "[17,  8000] loss: 0.729\n",
      "[17, 10000] loss: 0.748\n",
      "[17, 12000] loss: 0.774\n",
      "[18,  2000] loss: 0.621\n",
      "[18,  4000] loss: 0.688\n",
      "[18,  6000] loss: 0.701\n",
      "[18,  8000] loss: 0.718\n",
      "[18, 10000] loss: 0.717\n",
      "[18, 12000] loss: 0.767\n",
      "[19,  2000] loss: 0.620\n",
      "[19,  4000] loss: 0.665\n",
      "[19,  6000] loss: 0.682\n",
      "[19,  8000] loss: 0.704\n",
      "[19, 10000] loss: 0.730\n",
      "[19, 12000] loss: 0.737\n",
      "[20,  2000] loss: 0.612\n",
      "[20,  4000] loss: 0.664\n",
      "[20,  6000] loss: 0.678\n",
      "[20,  8000] loss: 0.698\n",
      "[20, 10000] loss: 0.709\n",
      "[20, 12000] loss: 0.742\n",
      "[21,  2000] loss: 0.587\n",
      "[21,  4000] loss: 0.654\n",
      "[21,  6000] loss: 0.689\n",
      "[21,  8000] loss: 0.674\n",
      "[21, 10000] loss: 0.726\n",
      "[21, 12000] loss: 0.693\n",
      "[22,  2000] loss: 0.592\n",
      "[22,  4000] loss: 0.640\n",
      "[22,  6000] loss: 0.666\n",
      "[22,  8000] loss: 0.672\n",
      "[22, 10000] loss: 0.695\n",
      "[22, 12000] loss: 0.708\n",
      "[23,  2000] loss: 0.585\n",
      "[23,  4000] loss: 0.646\n",
      "[23,  6000] loss: 0.666\n",
      "[23,  8000] loss: 0.667\n",
      "[23, 10000] loss: 0.695\n",
      "[23, 12000] loss: 0.688\n",
      "[24,  2000] loss: 0.582\n",
      "[24,  4000] loss: 0.609\n",
      "[24,  6000] loss: 0.646\n",
      "[24,  8000] loss: 0.661\n",
      "[24, 10000] loss: 0.695\n",
      "[24, 12000] loss: 0.689\n",
      "[25,  2000] loss: 0.566\n",
      "[25,  4000] loss: 0.611\n",
      "[25,  6000] loss: 0.668\n",
      "[25,  8000] loss: 0.641\n",
      "[25, 10000] loss: 0.677\n",
      "[25, 12000] loss: 0.691\n",
      "[26,  2000] loss: 0.574\n",
      "[26,  4000] loss: 0.614\n",
      "[26,  6000] loss: 0.637\n",
      "[26,  8000] loss: 0.674\n",
      "[26, 10000] loss: 0.681\n",
      "[26, 12000] loss: 0.671\n",
      "[27,  2000] loss: 0.572\n",
      "[27,  4000] loss: 0.604\n",
      "[27,  6000] loss: 0.619\n",
      "[27,  8000] loss: 0.645\n",
      "[27, 10000] loss: 0.676\n",
      "[27, 12000] loss: 0.672\n",
      "[28,  2000] loss: 0.553\n",
      "[28,  4000] loss: 0.619\n",
      "[28,  6000] loss: 0.614\n",
      "[28,  8000] loss: 0.692\n",
      "[28, 10000] loss: 0.666\n",
      "[28, 12000] loss: 0.684\n",
      "[29,  2000] loss: 0.551\n",
      "[29,  4000] loss: 0.614\n",
      "[29,  6000] loss: 0.612\n",
      "[29,  8000] loss: 0.655\n",
      "[29, 10000] loss: 0.655\n",
      "[29, 12000] loss: 0.676\n",
      "[30,  2000] loss: 0.541\n",
      "[30,  4000] loss: 0.589\n",
      "[30,  6000] loss: 0.613\n",
      "[30,  8000] loss: 0.648\n",
      "[30, 10000] loss: 0.681\n",
      "[30, 12000] loss: 0.674\n",
      "[31,  2000] loss: 0.551\n",
      "[31,  4000] loss: 0.578\n",
      "[31,  6000] loss: 0.620\n",
      "[31,  8000] loss: 0.638\n",
      "[31, 10000] loss: 0.666\n",
      "[31, 12000] loss: 0.647\n",
      "[32,  2000] loss: 0.557\n",
      "[32,  4000] loss: 0.587\n",
      "[32,  6000] loss: 0.627\n",
      "[32,  8000] loss: 0.653\n",
      "[32, 10000] loss: 0.648\n",
      "[32, 12000] loss: 0.656\n",
      "[33,  2000] loss: 0.536\n",
      "[33,  4000] loss: 0.582\n",
      "[33,  6000] loss: 0.608\n",
      "[33,  8000] loss: 0.646\n",
      "[33, 10000] loss: 0.667\n",
      "[33, 12000] loss: 0.677\n",
      "[34,  2000] loss: 0.552\n",
      "[34,  4000] loss: 0.571\n",
      "[34,  6000] loss: 0.595\n",
      "[34,  8000] loss: 0.639\n",
      "[34, 10000] loss: 0.677\n",
      "[34, 12000] loss: 0.665\n",
      "[35,  2000] loss: 0.535\n",
      "[35,  4000] loss: 0.608\n",
      "[35,  6000] loss: 0.622\n",
      "[35,  8000] loss: 0.638\n",
      "[35, 10000] loss: 0.626\n",
      "[35, 12000] loss: 0.656\n",
      "[36,  2000] loss: 0.525\n",
      "[36,  4000] loss: 0.557\n",
      "[36,  6000] loss: 0.593\n",
      "[36,  8000] loss: 0.626\n",
      "[36, 10000] loss: 0.651\n",
      "[36, 12000] loss: 0.655\n",
      "[37,  2000] loss: 0.535\n",
      "[37,  4000] loss: 0.565\n",
      "[37,  6000] loss: 0.624\n",
      "[37,  8000] loss: 0.604\n",
      "[37, 10000] loss: 0.637\n",
      "[37, 12000] loss: 0.653\n",
      "[38,  2000] loss: 0.573\n",
      "[38,  4000] loss: 0.617\n",
      "[38,  6000] loss: 0.602\n",
      "[38,  8000] loss: 0.620\n",
      "[38, 10000] loss: 0.641\n",
      "[38, 12000] loss: 0.660\n",
      "[39,  2000] loss: 0.556\n",
      "[39,  4000] loss: 0.570\n",
      "[39,  6000] loss: 0.587\n",
      "[39,  8000] loss: 0.624\n",
      "[39, 10000] loss: 0.620\n",
      "[39, 12000] loss: 0.669\n",
      "[40,  2000] loss: 0.554\n",
      "[40,  4000] loss: 0.561\n",
      "[40,  6000] loss: 0.603\n",
      "[40,  8000] loss: 0.617\n",
      "[40, 10000] loss: 0.663\n",
      "[40, 12000] loss: 0.644\n",
      "[41,  2000] loss: 0.506\n",
      "[41,  4000] loss: 0.566\n",
      "[41,  6000] loss: 0.610\n",
      "[41,  8000] loss: 0.625\n",
      "[41, 10000] loss: 0.625\n",
      "[41, 12000] loss: 0.655\n",
      "[42,  2000] loss: 0.500\n",
      "[42,  4000] loss: 0.570\n",
      "[42,  6000] loss: 0.580\n",
      "[42,  8000] loss: 0.647\n",
      "[42, 10000] loss: 0.646\n",
      "[42, 12000] loss: 0.650\n",
      "[43,  2000] loss: 0.525\n",
      "[43,  4000] loss: 0.573\n",
      "[43,  6000] loss: 0.628\n",
      "[43,  8000] loss: 0.602\n",
      "[43, 10000] loss: 0.630\n",
      "[43, 12000] loss: 0.645\n",
      "[44,  2000] loss: 0.583\n",
      "[44,  4000] loss: 0.605\n",
      "[44,  6000] loss: 0.603\n",
      "[44,  8000] loss: 0.639\n",
      "[44, 10000] loss: 0.643\n",
      "[44, 12000] loss: 0.638\n",
      "[45,  2000] loss: 0.522\n",
      "[45,  4000] loss: 0.596\n",
      "[45,  6000] loss: 0.590\n",
      "[45,  8000] loss: 0.633\n",
      "[45, 10000] loss: 0.662\n",
      "[45, 12000] loss: 0.654\n",
      "[46,  2000] loss: 0.560\n",
      "[46,  4000] loss: 0.574\n",
      "[46,  6000] loss: 0.607\n",
      "[46,  8000] loss: 0.597\n",
      "[46, 10000] loss: 0.633\n",
      "[46, 12000] loss: 0.631\n",
      "[47,  2000] loss: 0.525\n",
      "[47,  4000] loss: 0.570\n",
      "[47,  6000] loss: 0.597\n",
      "[47,  8000] loss: 0.616\n",
      "[47, 10000] loss: 0.614\n",
      "[47, 12000] loss: 0.655\n",
      "[48,  2000] loss: 0.540\n",
      "[48,  4000] loss: 0.594\n",
      "[48,  6000] loss: 0.607\n",
      "[48,  8000] loss: 0.630\n",
      "[48, 10000] loss: 0.617\n",
      "[48, 12000] loss: 0.665\n",
      "[49,  2000] loss: 0.576\n",
      "[49,  4000] loss: 0.570\n",
      "[49,  6000] loss: 0.589\n",
      "[49,  8000] loss: 0.608\n",
      "[49, 10000] loss: 0.617\n",
      "[49, 12000] loss: 0.635\n",
      "[50,  2000] loss: 0.543\n",
      "[50,  4000] loss: 0.561\n",
      "[50,  6000] loss: 0.611\n",
      "[50,  8000] loss: 0.616\n",
      "[50, 10000] loss: 0.633\n",
      "[50, 12000] loss: 0.678\n",
      "[51,  2000] loss: 0.519\n",
      "[51,  4000] loss: 0.574\n",
      "[51,  6000] loss: 0.594\n",
      "[51,  8000] loss: 0.624\n",
      "[51, 10000] loss: 0.662\n",
      "[51, 12000] loss: 0.638\n",
      "[52,  2000] loss: 0.561\n",
      "[52,  4000] loss: 0.564\n",
      "[52,  6000] loss: 0.624\n",
      "[52,  8000] loss: 0.626\n",
      "[52, 10000] loss: 0.661\n",
      "[52, 12000] loss: 0.671\n",
      "[53,  2000] loss: 0.549\n",
      "[53,  4000] loss: 0.570\n",
      "[53,  6000] loss: 0.572\n",
      "[53,  8000] loss: 0.605\n",
      "[53, 10000] loss: 0.637\n",
      "[53, 12000] loss: 0.641\n",
      "[54,  2000] loss: 0.552\n",
      "[54,  4000] loss: 0.558\n",
      "[54,  6000] loss: 0.602\n",
      "[54,  8000] loss: 0.651\n",
      "[54, 10000] loss: 0.661\n",
      "[54, 12000] loss: 0.688\n",
      "[55,  2000] loss: 0.534\n",
      "[55,  4000] loss: 0.568\n",
      "[55,  6000] loss: 0.605\n",
      "[55,  8000] loss: 0.635\n",
      "[55, 10000] loss: 0.664\n",
      "[55, 12000] loss: 0.661\n",
      "[56,  2000] loss: 0.570\n",
      "[56,  4000] loss: 0.608\n",
      "[56,  6000] loss: 0.591\n",
      "[56,  8000] loss: 0.625\n",
      "[56, 10000] loss: 0.633\n",
      "[56, 12000] loss: 0.660\n",
      "[57,  2000] loss: 0.562\n",
      "[57,  4000] loss: 0.606\n",
      "[57,  6000] loss: 0.606\n",
      "[57,  8000] loss: 0.603\n",
      "[57, 10000] loss: 0.623\n",
      "[57, 12000] loss: 0.688\n",
      "[58,  2000] loss: 0.561\n",
      "[58,  4000] loss: 0.597\n"
     ]
    },
    {
     "name": "stdout",
     "output_type": "stream",
     "text": [
      "[58,  6000] loss: 0.618\n",
      "[58,  8000] loss: 0.635\n",
      "[58, 10000] loss: 0.658\n",
      "[58, 12000] loss: 0.640\n",
      "[59,  2000] loss: 0.539\n",
      "[59,  4000] loss: 0.609\n",
      "[59,  6000] loss: 0.630\n",
      "[59,  8000] loss: 0.615\n",
      "[59, 10000] loss: 0.621\n",
      "[59, 12000] loss: 0.660\n",
      "[60,  2000] loss: 0.536\n",
      "[60,  4000] loss: 0.579\n",
      "[60,  6000] loss: 0.621\n",
      "[60,  8000] loss: 0.637\n",
      "[60, 10000] loss: 0.630\n",
      "[60, 12000] loss: 0.654\n",
      "[61,  2000] loss: 0.549\n",
      "[61,  4000] loss: 0.550\n",
      "[61,  6000] loss: 0.630\n",
      "[61,  8000] loss: 0.607\n",
      "[61, 10000] loss: 0.674\n",
      "[61, 12000] loss: 0.689\n",
      "[62,  2000] loss: 0.577\n",
      "[62,  4000] loss: 0.617\n",
      "[62,  6000] loss: 0.593\n",
      "[62,  8000] loss: 0.632\n",
      "[62, 10000] loss: 0.644\n",
      "[62, 12000] loss: 0.660\n",
      "[63,  2000] loss: 0.577\n",
      "[63,  4000] loss: 0.604\n",
      "[63,  6000] loss: 0.598\n",
      "[63,  8000] loss: 0.653\n",
      "[63, 10000] loss: 0.661\n",
      "[63, 12000] loss: 0.641\n",
      "[64,  2000] loss: 0.543\n",
      "[64,  4000] loss: 0.589\n",
      "[64,  6000] loss: 0.635\n",
      "[64,  8000] loss: 0.645\n",
      "[64, 10000] loss: 0.646\n",
      "[64, 12000] loss: 0.622\n",
      "[65,  2000] loss: 0.556\n",
      "[65,  4000] loss: 0.605\n",
      "[65,  6000] loss: 0.620\n",
      "[65,  8000] loss: 0.641\n",
      "[65, 10000] loss: 0.638\n",
      "[65, 12000] loss: 0.656\n",
      "[66,  2000] loss: 0.563\n",
      "[66,  4000] loss: 0.583\n",
      "[66,  6000] loss: 0.632\n",
      "[66,  8000] loss: 0.654\n",
      "[66, 10000] loss: 0.622\n",
      "[66, 12000] loss: 0.659\n",
      "[67,  2000] loss: 0.558\n",
      "[67,  4000] loss: 0.621\n",
      "[67,  6000] loss: 0.607\n",
      "[67,  8000] loss: 0.650\n",
      "[67, 10000] loss: 0.641\n",
      "[67, 12000] loss: 0.653\n",
      "[68,  2000] loss: 0.570\n",
      "[68,  4000] loss: 0.590\n",
      "[68,  6000] loss: 0.617\n",
      "[68,  8000] loss: 0.644\n",
      "[68, 10000] loss: 0.660\n",
      "[68, 12000] loss: 0.658\n",
      "[69,  2000] loss: 0.560\n",
      "[69,  4000] loss: 0.612\n",
      "[69,  6000] loss: 0.572\n",
      "[69,  8000] loss: 0.693\n",
      "[69, 10000] loss: 0.663\n",
      "[69, 12000] loss: 0.659\n",
      "[70,  2000] loss: 0.551\n",
      "[70,  4000] loss: 0.636\n",
      "[70,  6000] loss: 0.634\n",
      "[70,  8000] loss: 0.669\n",
      "[70, 10000] loss: 0.663\n",
      "[70, 12000] loss: 0.654\n",
      "[71,  2000] loss: 0.555\n",
      "[71,  4000] loss: 0.601\n",
      "[71,  6000] loss: 0.642\n",
      "[71,  8000] loss: 0.623\n",
      "[71, 10000] loss: 0.628\n",
      "[71, 12000] loss: 0.668\n",
      "[72,  2000] loss: 0.560\n",
      "[72,  4000] loss: 0.607\n",
      "[72,  6000] loss: 0.642\n",
      "[72,  8000] loss: 0.633\n",
      "[72, 10000] loss: 0.656\n",
      "[72, 12000] loss: 0.663\n",
      "[73,  2000] loss: 0.553\n",
      "[73,  4000] loss: 0.629\n",
      "[73,  6000] loss: 0.624\n",
      "[73,  8000] loss: 0.669\n",
      "[73, 10000] loss: 0.630\n",
      "[73, 12000] loss: 0.671\n",
      "[74,  2000] loss: 0.569\n",
      "[74,  4000] loss: 0.599\n",
      "[74,  6000] loss: 0.597\n",
      "[74,  8000] loss: 0.629\n",
      "[74, 10000] loss: 0.664\n",
      "[74, 12000] loss: 0.677\n",
      "[75,  2000] loss: 0.561\n",
      "[75,  4000] loss: 0.581\n",
      "[75,  6000] loss: 0.637\n",
      "[75,  8000] loss: 0.635\n",
      "[75, 10000] loss: 0.627\n",
      "[75, 12000] loss: 0.655\n",
      "[76,  2000] loss: 0.586\n",
      "[76,  4000] loss: 0.566\n",
      "[76,  6000] loss: 0.638\n",
      "[76,  8000] loss: 0.647\n",
      "[76, 10000] loss: 0.707\n",
      "[76, 12000] loss: 0.661\n",
      "[77,  2000] loss: 0.577\n",
      "[77,  4000] loss: 0.611\n",
      "[77,  6000] loss: 0.655\n",
      "[77,  8000] loss: 0.666\n",
      "[77, 10000] loss: 0.642\n",
      "[77, 12000] loss: 0.675\n",
      "[78,  2000] loss: 0.578\n",
      "[78,  4000] loss: 0.652\n",
      "[78,  6000] loss: 0.617\n",
      "[78,  8000] loss: 0.643\n",
      "[78, 10000] loss: 0.637\n",
      "[78, 12000] loss: 0.683\n",
      "[79,  2000] loss: 0.551\n",
      "[79,  4000] loss: 0.606\n",
      "[79,  6000] loss: 0.600\n",
      "[79,  8000] loss: 0.662\n",
      "[79, 10000] loss: 0.665\n",
      "[79, 12000] loss: 0.660\n",
      "[80,  2000] loss: 0.538\n",
      "[80,  4000] loss: 0.592\n",
      "[80,  6000] loss: 0.624\n",
      "[80,  8000] loss: 0.657\n",
      "[80, 10000] loss: 0.689\n",
      "[80, 12000] loss: 0.632\n",
      "[81,  2000] loss: 0.579\n",
      "[81,  4000] loss: 0.602\n",
      "[81,  6000] loss: 0.612\n",
      "[81,  8000] loss: 0.670\n",
      "[81, 10000] loss: 0.682\n",
      "[81, 12000] loss: 0.690\n",
      "[82,  2000] loss: 0.576\n",
      "[82,  4000] loss: 0.638\n",
      "[82,  6000] loss: 0.609\n",
      "[82,  8000] loss: 0.607\n",
      "[82, 10000] loss: 0.664\n",
      "[82, 12000] loss: 0.673\n",
      "[83,  2000] loss: 0.538\n",
      "[83,  4000] loss: 0.587\n",
      "[83,  6000] loss: 0.660\n",
      "[83,  8000] loss: 0.646\n",
      "[83, 10000] loss: 0.667\n",
      "[83, 12000] loss: 0.696\n",
      "[84,  2000] loss: 0.596\n",
      "[84,  4000] loss: 0.610\n",
      "[84,  6000] loss: 0.638\n",
      "[84,  8000] loss: 0.669\n",
      "[84, 10000] loss: 0.690\n",
      "[84, 12000] loss: 0.702\n",
      "[85,  2000] loss: 0.560\n",
      "[85,  4000] loss: 0.618\n",
      "[85,  6000] loss: 0.717\n",
      "[85,  8000] loss: 0.679\n",
      "[85, 10000] loss: 0.650\n",
      "[85, 12000] loss: 0.674\n",
      "[86,  2000] loss: 0.615\n",
      "[86,  4000] loss: 0.665\n",
      "[86,  6000] loss: 0.645\n",
      "[86,  8000] loss: 0.657\n",
      "[86, 10000] loss: 0.673\n",
      "[86, 12000] loss: 0.682\n",
      "[87,  2000] loss: 0.647\n",
      "[87,  4000] loss: 0.617\n",
      "[87,  6000] loss: 0.648\n",
      "[87,  8000] loss: 0.643\n",
      "[87, 10000] loss: 0.683\n",
      "[87, 12000] loss: 0.681\n",
      "[88,  2000] loss: 0.608\n",
      "[88,  4000] loss: 0.598\n",
      "[88,  6000] loss: 0.643\n",
      "[88,  8000] loss: 0.710\n",
      "[88, 10000] loss: 0.673\n",
      "[88, 12000] loss: 0.688\n",
      "[89,  2000] loss: 0.557\n",
      "[89,  4000] loss: 0.657\n",
      "[89,  6000] loss: 0.622\n",
      "[89,  8000] loss: 0.665\n",
      "[89, 10000] loss: 0.656\n",
      "[89, 12000] loss: 0.676\n",
      "[90,  2000] loss: 0.568\n",
      "[90,  4000] loss: 0.627\n",
      "[90,  6000] loss: 0.620\n",
      "[90,  8000] loss: 0.675\n",
      "[90, 10000] loss: 0.730\n",
      "[90, 12000] loss: 0.674\n",
      "[91,  2000] loss: 0.597\n",
      "[91,  4000] loss: 0.630\n",
      "[91,  6000] loss: 0.669\n",
      "[91,  8000] loss: 0.635\n",
      "[91, 10000] loss: 0.669\n",
      "[91, 12000] loss: 0.725\n",
      "[92,  2000] loss: 0.621\n",
      "[92,  4000] loss: 0.630\n",
      "[92,  6000] loss: 0.648\n",
      "[92,  8000] loss: 0.616\n",
      "[92, 10000] loss: 0.677\n",
      "[92, 12000] loss: 0.666\n",
      "[93,  2000] loss: 0.587\n",
      "[93,  4000] loss: 0.656\n",
      "[93,  6000] loss: 0.643\n",
      "[93,  8000] loss: 0.685\n",
      "[93, 10000] loss: 0.698\n",
      "[93, 12000] loss: 0.725\n",
      "[94,  2000] loss: 0.617\n",
      "[94,  4000] loss: 0.637\n",
      "[94,  6000] loss: 0.689\n",
      "[94,  8000] loss: 0.739\n",
      "[94, 10000] loss: 0.673\n",
      "[94, 12000] loss: 0.724\n",
      "[95,  2000] loss: 0.606\n",
      "[95,  4000] loss: 0.631\n",
      "[95,  6000] loss: 0.643\n",
      "[95,  8000] loss: 0.692\n",
      "[95, 10000] loss: 0.693\n",
      "[95, 12000] loss: 0.678\n",
      "[96,  2000] loss: 0.583\n",
      "[96,  4000] loss: 0.624\n",
      "[96,  6000] loss: 0.671\n",
      "[96,  8000] loss: 0.669\n",
      "[96, 10000] loss: 0.695\n",
      "[96, 12000] loss: 0.724\n",
      "[97,  2000] loss: 0.607\n",
      "[97,  4000] loss: 0.650\n",
      "[97,  6000] loss: 0.639\n",
      "[97,  8000] loss: 0.653\n",
      "[97, 10000] loss: 0.684\n",
      "[97, 12000] loss: 0.681\n",
      "[98,  2000] loss: 0.604\n",
      "[98,  4000] loss: 0.660\n",
      "[98,  6000] loss: 0.664\n",
      "[98,  8000] loss: 0.606\n",
      "[98, 10000] loss: 0.679\n",
      "[98, 12000] loss: 0.734\n",
      "[99,  2000] loss: 0.612\n",
      "[99,  4000] loss: 0.612\n",
      "[99,  6000] loss: 0.678\n",
      "[99,  8000] loss: 0.724\n",
      "[99, 10000] loss: 0.738\n",
      "[99, 12000] loss: 0.690\n",
      "[100,  2000] loss: 0.591\n",
      "[100,  4000] loss: 0.639\n",
      "[100,  6000] loss: 0.693\n",
      "[100,  8000] loss: 0.670\n",
      "[100, 10000] loss: 0.672\n",
      "[100, 12000] loss: 0.694\n",
      "Finished Training\n"
     ]
    }
   ],
   "source": [
    "losses =[]\n",
    "for epoch in range(100):\n",
    "\n",
    "    running_loss = 0.0\n",
    "    for i, data in enumerate(trainloader, 0):\n",
    "        inputs, labels = data[0].to(device), data[1].to(device)\n",
    "        optimizer.zero_grad()\n",
    "        outputs = net(inputs).to(device)\n",
    "        loss = criterion(outputs, labels)\n",
    "        loss.backward()\n",
    "        optimizer.step()\n",
    "        running_loss += loss.item()\n",
    "        if i % 2000 == 1999:\n",
    "            print('[%d, %5d] loss: %.3f' % (epoch + 1, i + 1, running_loss / 2000))\n",
    "            losses.append(running_loss / 2000)\n",
    "            running_loss = 0.0\n",
    "\n",
    "print('Finished Training')"
   ]
  },
  {
   "cell_type": "code",
   "execution_count": 13,
   "metadata": {},
   "outputs": [
    {
     "data": {
      "image/png": "[encoded data removed]",
      "text/plain": [
       "<Figure size 432x288 with 1 Axes>"
      ]
     },
     "metadata": {
      "needs_background": "light"
     },
     "output_type": "display_data"
    }
   ],
   "source": [
    "plt.plot(losses)\n",
    "plt.show()"
   ]
  },
  {
   "cell_type": "markdown",
   "metadata": {},
   "source": [
    "Примерно после 30 эпох лосс прекращает существенно уменьшаться. Это означает, что модель обучилась."
   ]
  },
  {
   "cell_type": "markdown",
   "metadata": {},
   "source": [
    "Сохраним модель"
   ]
  },
  {
   "cell_type": "code",
   "execution_count": 14,
   "metadata": {},
   "outputs": [],
   "source": [
    "PATH = './cifar_net_version_test_intro.pth'\n",
    "torch.save(net.state_dict(), PATH)"
   ]
  },
  {
   "cell_type": "markdown",
   "metadata": {},
   "source": [
    "Посмотрим структуру модели"
   ]
  },
  {
   "cell_type": "code",
   "execution_count": 17,
   "metadata": {},
   "outputs": [],
   "source": [
    "data_iter = iter(testloader)\n",
    "images, labels = data_iter.next()"
   ]
  },
  {
   "cell_type": "code",
   "execution_count": 20,
   "metadata": {},
   "outputs": [
    {
     "name": "stderr",
     "output_type": "stream",
     "text": [
      "Clipping input data to the valid range for imshow with RGB data ([0..1] for floats or [0..255] for integers).\n"
     ]
    },
    {
     "name": "stdout",
     "output_type": "stream",
     "text": [
      "GroundTruth:    cat  ship  ship plane\n"
     ]
    },
    {
     "data": {
      "image/png": "[encoded data removed]",
      "text/plain": [
       "<Figure size 432x288 with 1 Axes>"
      ]
     },
     "metadata": {
      "needs_background": "light"
     },
     "output_type": "display_data"
    }
   ],
   "source": [
    "outputs = net(images.to(device)).to(device)\n",
    "imgs = torchvision.utils.make_grid(images)\n",
    "plt.imshow(imgs.permute(1, 2, 0).numpy())\n",
    "print('GroundTruth: ', ' '.join('%5s' % classes[labels[j]] for j in range(4)))"
   ]
  },
  {
   "cell_type": "code",
   "execution_count": 24,
   "metadata": {},
   "outputs": [
    {
     "name": "stdout",
     "output_type": "stream",
     "text": [
      "cat\n",
      "ship\n",
      "ship\n",
      "plane\n"
     ]
    }
   ],
   "source": [
    "for i in range(4):\n",
    "    print(classes[labels[i]])"
   ]
  },
  {
   "cell_type": "markdown",
   "metadata": {},
   "source": [
    "\"Угадали\" все картинки."
   ]
  },
  {
   "cell_type": "markdown",
   "metadata": {},
   "source": [
    "#### Задание 2"
   ]
  },
  {
   "cell_type": "markdown",
   "metadata": {},
   "source": [
    "Взять часть, где мы делали один шаг обучения, и обернуть его в цикл по схеме, как обучали модель в конце занятия."
   ]
  },
  {
   "cell_type": "code",
   "execution_count": 107,
   "metadata": {},
   "outputs": [
    {
     "name": "stdout",
     "output_type": "stream",
     "text": [
      "[1] loss: 0.0000186708\n",
      "[2] loss: 0.0000177132\n",
      "[3] loss: 0.0000168047\n",
      "[4] loss: 0.0000159428\n",
      "[5] loss: 0.0000151251\n",
      "[6] loss: 0.0000143494\n",
      "[7] loss: 0.0000136134\n",
      "[8] loss: 0.0000129152\n",
      "[9] loss: 0.0000122528\n",
      "[10] loss: 0.0000116244\n",
      "Finished Training\n"
     ]
    }
   ],
   "source": [
    "linear = nn.Linear(2, 2)\n",
    "criterion = nn.MSELoss()\n",
    "optimizer = torch.optim.SGD(linear.parameters(), lr=0.01)\n",
    "\n",
    "x = Variable(torch.randn(2), requires_grad = True)\n",
    "y = Variable(torch.randn(2), requires_grad = False)\n",
    "\n",
    "dataset = torch.utils.data.TensorDataset(x, y)\n",
    "loader = torch.utils.data.DataLoader(dataset, batch_size=2, pin_memory=True)\n",
    "\n",
    "for epoch in range(10):\n",
    "    for i, data in enumerate(loader):\n",
    "        inputs, labels = data[0], data[1]\n",
    "        optimizer.zero_grad()\n",
    "        pred = linear(inputs)\n",
    "        loss = criterion(pred, labels)\n",
    "        loss.backward()\n",
    "        optimizer.step()\n",
    "        running_loss += loss.item()\n",
    "        print('[%d] loss: %.10f' % (epoch + 1, running_loss / 2000))\n",
    "        running_loss = 0.0\n",
    "        \n",
    "print('Finished Training')"
   ]
  },
  {
   "cell_type": "markdown",
   "metadata": {},
   "source": [
    "#### Задание 3"
   ]
  },
  {
   "cell_type": "markdown",
   "metadata": {},
   "source": [
    "Переписать эту программу на PyTorch:"
   ]
  },
  {
   "attachments": {
    "image.png": {
     "image/png": "[encoded data removed]"
    }
   },
   "cell_type": "markdown",
   "metadata": {},
   "source": [
    "![image.png](attachment:image.png)"
   ]
  },
  {
   "cell_type": "markdown",
   "metadata": {},
   "source": [
    "Не забудьте про реализацию функции forward!"
   ]
  },
  {
   "cell_type": "code",
   "execution_count": 109,
   "metadata": {},
   "outputs": [],
   "source": [
    "class Net(nn.Module):\n",
    "    def __init__(self):\n",
    "        super().__init__()\n",
    "        self.f1 = nn.Flatten((28, 28),128)\n",
    "        self.l1 = nn.Linear(128, 128)\n",
    "        self.d1 = nn.Dropout(0.2)\n",
    "        self.l2 = nn.Linear(128, 10)\n",
    "\n",
    "    def forward(self, x):\n",
    "        x = self.f1(x)\n",
    "        x = F.relu(self.l1(x))\n",
    "        x = self.d1(x)\n",
    "        x = F.softmax(self.l2(x))\n",
    "        return x\n",
    "\n",
    "\n",
    "net = Net().to('cpu')"
   ]
  }
 ],
 "metadata": {
  "kernelspec": {
   "display_name": "Python 3",
   "language": "python",
   "name": "python3"
  },
  "language_info": {
   "codemirror_mode": {
    "name": "ipython",
    "version": 3
   },
   "file_extension": ".py",
   "mimetype": "text/x-python",
   "name": "python",
   "nbconvert_exporter": "python",
   "pygments_lexer": "ipython3",
   "version": "3.7.6"
  }
 },
 "nbformat": 4,
 "nbformat_minor": 4
}
